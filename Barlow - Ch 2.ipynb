{
 "cells": [
  {
   "cell_type": "markdown",
   "metadata": {
    "collapsed": false
   },
   "source": [
    "# Ch 2"
   ]
  },
  {
   "cell_type": "code",
   "execution_count": 1,
   "metadata": {
    "collapsed": false
   },
   "outputs": [
    {
     "name": "stdout",
     "output_type": "stream",
     "text": [
      "Populating the interactive namespace from numpy and matplotlib\n"
     ]
    }
   ],
   "source": [
    "%pylab inline"
   ]
  },
  {
   "cell_type": "code",
   "execution_count": 2,
   "metadata": {
    "collapsed": false
   },
   "outputs": [],
   "source": [
    "from math import sqrt\n",
    "\n",
    "# problem 1\n",
    "age = [19.0, 18.7, 19.3, 19.2, 18.9, 19.0, 20.2, 19.9, 18.6, 19.4, \n",
    "       19.3, 18.8, 19.3, 19.2, 18.7, 18.5, 18.6, 19.7, 19.9, 20.0, \n",
    "       19.5, 19.4, 19.6, 20.0, 18.9]\n",
    "\n",
    "age_arr = np.array(age)\n",
    "\n",
    "# I'll write my own functions instead of using the built-in ones\n",
    "def mean(data):\n",
    "    #n = len(data)\n",
    "    m = 0.0\n",
    "    for i, d in enumerate(data):\n",
    "        i = i + 1 # one-index the enumeration\n",
    "        m = 1/i * ((i - 1)*m + d)\n",
    "    return m\n",
    "\n",
    "def var(data, μ=None):    \n",
    "    if μ is None:\n",
    "        # estimate population mean by taking the sample mean\n",
    "        μ = mean(data)\n",
    "        δ = 1.\n",
    "        assert len(data) > 1, 'unknown mean, must estimate'\n",
    "    else:\n",
    "        # known mean\n",
    "        δ = 2.\n",
    "    \n",
    "    v = 0.0     \n",
    "    for i, d in enumerate(data):\n",
    "        i = i + δ\n",
    "        v = 1/i * ((i - 1)*v + (d - μ)**2)\n",
    "    \n",
    "    return v\n",
    "\n",
    "def stddev(data, μ=None):\n",
    "    return sqrt(var(data))\n",
    "        \n",
    "assert np.allclose(mean(age), age_arr.mean()), 'mean function works correctly'\n",
    "assert np.allclose(var(age), age_arr.var()), 'var function works correctly'"
   ]
  },
  {
   "cell_type": "code",
   "execution_count": 3,
   "metadata": {
    "collapsed": false
   },
   "outputs": [
    {
     "name": "stdout",
     "output_type": "stream",
     "text": [
      "19.946153846153845 3.4438608442840573\n"
     ]
    }
   ],
   "source": [
    "# problem 2\n",
    "age_2 = age + [37.0]\n",
    "\n",
    "print(mean(age_2), stddev(age_2))"
   ]
  },
  {
   "cell_type": "code",
   "execution_count": 4,
   "metadata": {
    "collapsed": false
   },
   "outputs": [
    {
     "name": "stdout",
     "output_type": "stream",
     "text": [
      "37.5 55.25\n",
      "25.911709064951054 14.16642156650719\n",
      "207.45833333333331\n",
      "0.5651642265418636\n"
     ]
    }
   ],
   "source": [
    "# problem 4\n",
    "\n",
    "def cov(datax, datay):\n",
    "    μx = mean(datax)\n",
    "    μy = mean(datay)\n",
    "    \n",
    "    cv = 0.0\n",
    "    for i,(x,y) in enumerate(zip(datax, datay)):\n",
    "        i = i + 1\n",
    "        cv = 1/i * ((i - 1)*cv + (x - μx)*(y - μy))\n",
    "    return cv\n",
    "\n",
    "def corr(datax, datay):\n",
    "    return cov(datax, datay)/(stddev(datax)*stddev(datay))\n",
    "\n",
    "classical = [22, 48, 76, 10, 22, 4, 68, 44, 10, 76, 14, 56]\n",
    "quantum = [63, 39, 61, 30, 51, 44, 74, 78, 55, 58, 41, 69]\n",
    "\n",
    "print(mean(classical), mean(quantum))\n",
    "print(stddev(classical), stddev(quantum))\n",
    "print(cov(classical, quantum))\n",
    "print(corr(classical, quantum))"
   ]
  },
  {
   "cell_type": "code",
   "execution_count": 5,
   "metadata": {
    "collapsed": false
   },
   "outputs": [
    {
     "data": {
      "text/plain": [
       "(array([  3.,  13.,  12.,  13.,  19.,  10.]),\n",
       " array([ 22. ,  33.5,  45. ,  56.5,  68. ,  79.5,  91. ]),\n",
       " <a list of 6 Patch objects>)"
      ]
     },
     "execution_count": 5,
     "metadata": {},
     "output_type": "execute_result"
    },
    {
     "data": {
      "image/png": "[encoded data removed]",
      "text/plain": [
       "<matplotlib.figure.Figure at 0x108a23390>"
      ]
     },
     "metadata": {},
     "output_type": "display_data"
    }
   ],
   "source": [
    "# problem 6\n",
    "\n",
    "num = [90, 90, 79, 84, 78, 91, 88, 90, 85, 80,\n",
    "       88, 75, 73, 79, 78, 79, 67, 83, 68, 60,\n",
    "       73, 79, 69, 74, 76, 68, 72, 72, 75, 60,\n",
    "       61, 66, 66, 54, 71, 67, 75, 49, 51, 57,\n",
    "       58, 53, 65, 57, 59, 65, 48, 54, 55, 40,\n",
    "       49, 41, 36, 46, 40, 37, 53, 48, 44, 43,\n",
    "       35, 39, 30, 41, 41, 22, 28, 36, 39, 51]\n",
    "\n",
    "hist(num, bins=6)"
   ]
  },
  {
   "cell_type": "code",
   "execution_count": null,
   "metadata": {
    "collapsed": true
   },
   "outputs": [],
   "source": []
  }
 ],
 "metadata": {
  "kernelspec": {
   "display_name": "Python 3",
   "language": "python",
   "name": "python3"
  },
  "language_info": {
   "codemirror_mode": {
    "name": "ipython",
    "version": 3
   },
   "file_extension": ".py",
   "mimetype": "text/x-python",
   "name": "python",
   "nbconvert_exporter": "python",
   "pygments_lexer": "ipython3",
   "version": "3.4.3"
  }
 },
 "nbformat": 4,
 "nbformat_minor": 0
}
