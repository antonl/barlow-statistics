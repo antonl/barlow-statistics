{
 "cells": [
  {
   "cell_type": "markdown",
   "metadata": {},
   "source": [
    "# Ch 4 of Montgomery and Peck"
   ]
  },
  {
   "cell_type": "code",
   "execution_count": 1,
   "metadata": {
    "collapsed": false
   },
   "outputs": [
    {
     "name": "stdout",
     "output_type": "stream",
     "text": [
      "Populating the interactive namespace from numpy and matplotlib\n"
     ]
    }
   ],
   "source": [
    "%pylab inline\n",
    "matplotlib.rcParams['figure.figsize'] = (12, 10)\n",
    "import pandas as pd\n",
    "import statsmodels.formula.api as sm\n",
    "from scipy import stats\n",
    "from patsy import dmatrices\n",
    "from scipy import linalg"
   ]
  },
  {
   "cell_type": "code",
   "execution_count": 32,
   "metadata": {
    "collapsed": true
   },
   "outputs": [],
   "source": [
    "# an OLS class similar to the one from statsmodels, but less complicated\n",
    "from patsy import dmatrices\n",
    "from scipy import linalg\n",
    "\n",
    "class ols:\n",
    "    def __init__(self, formula, data=None):\n",
    "        self.formula = formula\n",
    "        self.data = data\n",
    "    \n",
    "    def fit(self):\n",
    "        # Let's try the QR decomposition example from Seber\n",
    "        y, X = dmatrices(self.formula, data=self.data)\n",
    "        \n",
    "        # I should check whether the intercept counts as a degree of freedom\n",
    "        self.nobs = X.shape[0] # number of observations\n",
    "        self.model_p = X.shape[1] # number of regressors\n",
    "        \n",
    "        # create augmented matrix\n",
    "        aug = np.zeros((self.nobs, self.model_p + y.shape[1]), dtype=X.dtype)\n",
    "        aug[:, :p] = X\n",
    "        aug[:, p:] = y\n",
    "\n",
    "        # perform QR decomposition\n",
    "        Qd, Rd = linalg.qr(aug, mode='economic')\n",
    "        Qp, q = Qd[:, :p], Qd[:, p:]\n",
    "        R, r, d = Rd[:p, :p], Rd[:p, p:], Rd[p:, p:]\n",
    "        \n",
    "        # calculate model parameters\n",
    "        self.beta = linalg.solve_triangular(R, r).reshape(-1)\n",
    "        self.yhat = np.dot(Qp, r).reshape(-1)\n",
    "        self.resid = (d*q).reshape(-1)\n",
    "        self.rss = (d**2).reshape(-1)\n",
    "        self.hat_matrix = np.dot(Qp, Qp.T)\n",
    "        \n",
    "        # cache decomposition\n",
    "        self._Qd = Qd\n",
    "        self._Rd = Rd\n",
    "        \n",
    "        return self"
   ]
  },
  {
   "cell_type": "markdown",
   "metadata": {
    "collapsed": true
   },
   "source": [
    "## Summary of equations\n",
    "\n",
    "Equation $\\boldsymbol{y = X \\beta + \\varepsilon}$, where $\\boldsymbol X$ is (n, k),  $\\boldsymbol \\beta$ is (k, 1), and $\\boldsymbol y$, $\\boldsymbol \\varepsilon$ are (n,1).\n",
    "\n",
    "We are minimizing the sum of squares $S(\\boldsymbol{\\beta}) = \\sum_{i=1}^n \\varepsilon_i^2 = \\boldsymbol{\\varepsilon' \\varepsilon} = \\boldsymbol{(y - X\\beta)'(y - X\\beta)} = \\boldsymbol{y'y - 2\\beta'X'y + \\beta'X'X\\beta}$. Taking derivative w.r.t. $\\boldsymbol\\beta$ we get $\\boldsymbol{X'X\\hat\\beta = X'y}$, where we replaced $\\boldsymbol\\beta$ with $\\boldsymbol {\\hat\\beta}$ to represent that, at the point of minimal S, the estimator matches the true model.\n",
    "\n",
    "The solution of the normal equation (above) is $\\boldsymbol{\\hat\\beta} = \\boldsymbol{(X'X)^{-1}X'y}$, provided that $\\boldsymbol{(X'X)^{-1}}$ exists. This is the case if the regressors are linearly independent.\n",
    "\n",
    "We can get the fitted values for the observed quantities $\\boldsymbol{\\hat y} = \\boldsymbol{X\\hat\\beta} = \\boldsymbol{X(X'X)^{-1}X'y} = \\boldsymbol{Hy}$. $\\boldsymbol{H}$ is called the hat matrix and it maps the vector of observed values to a vector of fitted values."
   ]
  },
  {
   "cell_type": "code",
   "execution_count": 2,
   "metadata": {
    "collapsed": false
   },
   "outputs": [
    {
     "name": "stdout",
     "output_type": "stream",
     "text": [
      "Overwriting delivery-time-data.csv\n"
     ]
    }
   ],
   "source": [
    "%%file delivery-time-data.csv\n",
    "\"Observation number\", \"Delivery time (minutes)\", \"Number of cases\", \"Distance (feet)\"\n",
    "1, 16.68, 7, 560\n",
    "2, 11.50, 3, 220\n",
    "3, 12.05, 3, 340\n",
    "4, 14.88, 4, 80\n",
    "5, 13.75, 6, 150\n",
    "6, 18.11, 7, 330\n",
    "7, 8.00, 2, 110\n",
    "8, 17.83, 7, 210\n",
    "9, 79.24, 30, 1460\n",
    "10, 21.50, 5, 605\n",
    "11, 40.33, 16, 688\n",
    "12, 21.00, 10, 215\n",
    "13, 13.50, 4, 255\n",
    "14, 19.75, 6, 462\n",
    "15, 24.00, 9, 448\n",
    "16, 29.00, 10, 776\n",
    "17, 15.35, 6, 200\n",
    "18, 19.00, 7, 132\n",
    "19, 9.50, 3, 36\n",
    "20, 35.10, 17, 770\n",
    "21, 17.90, 10, 140\n",
    "22, 52.32, 26, 810\n",
    "23, 18.75, 9, 450\n",
    "24, 19.83, 8, 635\n",
    "25, 10.75, 4, 150"
   ]
  },
  {
   "cell_type": "code",
   "execution_count": 3,
   "metadata": {
    "collapsed": false
   },
   "outputs": [],
   "source": [
    "dt = pd.read_csv('delivery-time-data.csv', index_col='Observation number')\n",
    "dt.columns = ['t', 'n', 'd'] # have to rename columns to use formulas"
   ]
  },
  {
   "cell_type": "code",
   "execution_count": 4,
   "metadata": {
    "collapsed": false
   },
   "outputs": [
    {
     "data": {
      "text/html": [
       "<div>\n",
       "<table border=\"1\" class=\"dataframe\">\n",
       "  <thead>\n",
       "    <tr style=\"text-align: right;\">\n",
       "      <th></th>\n",
       "      <th>t</th>\n",
       "      <th>n</th>\n",
       "      <th>d</th>\n",
       "    </tr>\n",
       "    <tr>\n",
       "      <th>Observation number</th>\n",
       "      <th></th>\n",
       "      <th></th>\n",
       "      <th></th>\n",
       "    </tr>\n",
       "  </thead>\n",
       "  <tbody>\n",
       "    <tr>\n",
       "      <th>1</th>\n",
       "      <td>16.68</td>\n",
       "      <td>7</td>\n",
       "      <td>560</td>\n",
       "    </tr>\n",
       "    <tr>\n",
       "      <th>2</th>\n",
       "      <td>11.50</td>\n",
       "      <td>3</td>\n",
       "      <td>220</td>\n",
       "    </tr>\n",
       "    <tr>\n",
       "      <th>3</th>\n",
       "      <td>12.05</td>\n",
       "      <td>3</td>\n",
       "      <td>340</td>\n",
       "    </tr>\n",
       "    <tr>\n",
       "      <th>4</th>\n",
       "      <td>14.88</td>\n",
       "      <td>4</td>\n",
       "      <td>80</td>\n",
       "    </tr>\n",
       "    <tr>\n",
       "      <th>5</th>\n",
       "      <td>13.75</td>\n",
       "      <td>6</td>\n",
       "      <td>150</td>\n",
       "    </tr>\n",
       "    <tr>\n",
       "      <th>6</th>\n",
       "      <td>18.11</td>\n",
       "      <td>7</td>\n",
       "      <td>330</td>\n",
       "    </tr>\n",
       "    <tr>\n",
       "      <th>7</th>\n",
       "      <td>8.00</td>\n",
       "      <td>2</td>\n",
       "      <td>110</td>\n",
       "    </tr>\n",
       "    <tr>\n",
       "      <th>8</th>\n",
       "      <td>17.83</td>\n",
       "      <td>7</td>\n",
       "      <td>210</td>\n",
       "    </tr>\n",
       "    <tr>\n",
       "      <th>9</th>\n",
       "      <td>79.24</td>\n",
       "      <td>30</td>\n",
       "      <td>1460</td>\n",
       "    </tr>\n",
       "    <tr>\n",
       "      <th>10</th>\n",
       "      <td>21.50</td>\n",
       "      <td>5</td>\n",
       "      <td>605</td>\n",
       "    </tr>\n",
       "    <tr>\n",
       "      <th>11</th>\n",
       "      <td>40.33</td>\n",
       "      <td>16</td>\n",
       "      <td>688</td>\n",
       "    </tr>\n",
       "    <tr>\n",
       "      <th>12</th>\n",
       "      <td>21.00</td>\n",
       "      <td>10</td>\n",
       "      <td>215</td>\n",
       "    </tr>\n",
       "    <tr>\n",
       "      <th>13</th>\n",
       "      <td>13.50</td>\n",
       "      <td>4</td>\n",
       "      <td>255</td>\n",
       "    </tr>\n",
       "    <tr>\n",
       "      <th>14</th>\n",
       "      <td>19.75</td>\n",
       "      <td>6</td>\n",
       "      <td>462</td>\n",
       "    </tr>\n",
       "    <tr>\n",
       "      <th>15</th>\n",
       "      <td>24.00</td>\n",
       "      <td>9</td>\n",
       "      <td>448</td>\n",
       "    </tr>\n",
       "    <tr>\n",
       "      <th>16</th>\n",
       "      <td>29.00</td>\n",
       "      <td>10</td>\n",
       "      <td>776</td>\n",
       "    </tr>\n",
       "    <tr>\n",
       "      <th>17</th>\n",
       "      <td>15.35</td>\n",
       "      <td>6</td>\n",
       "      <td>200</td>\n",
       "    </tr>\n",
       "    <tr>\n",
       "      <th>18</th>\n",
       "      <td>19.00</td>\n",
       "      <td>7</td>\n",
       "      <td>132</td>\n",
       "    </tr>\n",
       "    <tr>\n",
       "      <th>19</th>\n",
       "      <td>9.50</td>\n",
       "      <td>3</td>\n",
       "      <td>36</td>\n",
       "    </tr>\n",
       "    <tr>\n",
       "      <th>20</th>\n",
       "      <td>35.10</td>\n",
       "      <td>17</td>\n",
       "      <td>770</td>\n",
       "    </tr>\n",
       "    <tr>\n",
       "      <th>21</th>\n",
       "      <td>17.90</td>\n",
       "      <td>10</td>\n",
       "      <td>140</td>\n",
       "    </tr>\n",
       "    <tr>\n",
       "      <th>22</th>\n",
       "      <td>52.32</td>\n",
       "      <td>26</td>\n",
       "      <td>810</td>\n",
       "    </tr>\n",
       "    <tr>\n",
       "      <th>23</th>\n",
       "      <td>18.75</td>\n",
       "      <td>9</td>\n",
       "      <td>450</td>\n",
       "    </tr>\n",
       "    <tr>\n",
       "      <th>24</th>\n",
       "      <td>19.83</td>\n",
       "      <td>8</td>\n",
       "      <td>635</td>\n",
       "    </tr>\n",
       "    <tr>\n",
       "      <th>25</th>\n",
       "      <td>10.75</td>\n",
       "      <td>4</td>\n",
       "      <td>150</td>\n",
       "    </tr>\n",
       "  </tbody>\n",
       "</table>\n",
       "</div>"
      ],
      "text/plain": [
       "                        t   n     d\n",
       "Observation number                 \n",
       "1                   16.68   7   560\n",
       "2                   11.50   3   220\n",
       "3                   12.05   3   340\n",
       "4                   14.88   4    80\n",
       "5                   13.75   6   150\n",
       "6                   18.11   7   330\n",
       "7                    8.00   2   110\n",
       "8                   17.83   7   210\n",
       "9                   79.24  30  1460\n",
       "10                  21.50   5   605\n",
       "11                  40.33  16   688\n",
       "12                  21.00  10   215\n",
       "13                  13.50   4   255\n",
       "14                  19.75   6   462\n",
       "15                  24.00   9   448\n",
       "16                  29.00  10   776\n",
       "17                  15.35   6   200\n",
       "18                  19.00   7   132\n",
       "19                   9.50   3    36\n",
       "20                  35.10  17   770\n",
       "21                  17.90  10   140\n",
       "22                  52.32  26   810\n",
       "23                  18.75   9   450\n",
       "24                  19.83   8   635\n",
       "25                  10.75   4   150"
      ]
     },
     "execution_count": 4,
     "metadata": {},
     "output_type": "execute_result"
    }
   ],
   "source": [
    "dt"
   ]
  },
  {
   "cell_type": "code",
   "execution_count": 5,
   "metadata": {
    "collapsed": false
   },
   "outputs": [],
   "source": [
    "y, X = dmatrices('t ~ n + d', data=dt)"
   ]
  },
  {
   "cell_type": "code",
   "execution_count": 6,
   "metadata": {
    "collapsed": false
   },
   "outputs": [],
   "source": [
    "fit = sm.ols('t ~ n + d', data=dt).fit()"
   ]
  },
  {
   "cell_type": "code",
   "execution_count": 7,
   "metadata": {
    "collapsed": false
   },
   "outputs": [
    {
     "name": "stdout",
     "output_type": "stream",
     "text": [
      "                 Results: Ordinary least squares\n",
      "=================================================================\n",
      "Model:              OLS              Adj. R-squared:     0.956   \n",
      "Dependent Variable: t                AIC:                132.8292\n",
      "Date:               2015-08-05 14:34 BIC:                136.4858\n",
      "No. Observations:   25               Log-Likelihood:     -63.415 \n",
      "Df Model:           2                F-statistic:        261.2   \n",
      "Df Residuals:       22               Prob (F-statistic): 4.69e-16\n",
      "R-squared:          0.960            Scale:              10.624  \n",
      "-------------------------------------------------------------------\n",
      "              Coef.    Std.Err.     t      P>|t|    [0.025   0.975]\n",
      "-------------------------------------------------------------------\n",
      "Intercept     2.3427     1.0967   2.1360   0.0441   0.0682   4.6171\n",
      "n             1.6157     0.1707   9.4630   0.0000   1.2616   1.9697\n",
      "d             0.0144     0.0036   3.9824   0.0006   0.0069   0.0219\n",
      "-----------------------------------------------------------------\n",
      "Omnibus:              0.423        Durbin-Watson:           1.169\n",
      "Prob(Omnibus):        0.810        Jarque-Bera (JB):        0.010\n",
      "Skew:                 0.031        Prob(JB):                0.995\n",
      "Kurtosis:             3.074        Condition No.:           873  \n",
      "=================================================================\n",
      "\n"
     ]
    }
   ],
   "source": [
    "print(fit.summary2())"
   ]
  },
  {
   "cell_type": "code",
   "execution_count": 8,
   "metadata": {
    "collapsed": false
   },
   "outputs": [],
   "source": [
    "XpX = linalg.pinv2(np.dot(X.T, X))\n",
    "H = np.dot(X, np.dot(XpX, X.T))"
   ]
  },
  {
   "cell_type": "code",
   "execution_count": 9,
   "metadata": {
    "collapsed": false
   },
   "outputs": [],
   "source": [
    "yp = np.dot(H, y)\n",
    "dt['fitted'] = yp\n",
    "dt['e'] = y - yp"
   ]
  },
  {
   "cell_type": "code",
   "execution_count": 10,
   "metadata": {
    "collapsed": false
   },
   "outputs": [
    {
     "data": {
      "image/png": "[encoded data removed]",
      "text/plain": [
       "<matplotlib.figure.Figure at 0x4625630>"
      ]
     },
     "metadata": {},
     "output_type": "display_data"
    }
   ],
   "source": [
    "dt.sort('t', inplace=True)\n",
    "plot(dt.fitted)\n",
    "plot(dt.t)\n",
    "grid()"
   ]
  },
  {
   "cell_type": "code",
   "execution_count": 31,
   "metadata": {
    "collapsed": false
   },
   "outputs": [
    {
     "data": {
      "text/plain": [
       "array([ 0.84327551,  1.7923772 , -0.21358484,  1.14486802, -0.0317684 ,\n",
       "        1.02560829, -0.44489971,  4.92361974,  0.43566845, -5.02989825,\n",
       "        1.15612464, -2.61364309, -0.29051178, -4.60846308,  3.44843831,\n",
       "        1.06584559, -4.57470346, -0.59279086,  2.37392796,  0.6703142 ,\n",
       "       -0.66481613, -5.78808637,  2.23743929, -3.68454878,  7.42020752])"
      ]
     },
     "execution_count": 31,
     "metadata": {},
     "output_type": "execute_result"
    }
   ],
   "source": [
    "dt_fitted = ols('t ~ n + d', data=dt).fit()\n",
    "dt_fitted.resid"
   ]
  },
  {
   "cell_type": "code",
   "execution_count": null,
   "metadata": {
    "collapsed": true
   },
   "outputs": [],
   "source": []
  }
 ],
 "metadata": {
  "kernelspec": {
   "display_name": "Python 3",
   "language": "python",
   "name": "python3"
  },
  "language_info": {
   "codemirror_mode": {
    "name": "ipython",
    "version": 3
   },
   "file_extension": ".py",
   "mimetype": "text/x-python",
   "name": "python",
   "nbconvert_exporter": "python",
   "pygments_lexer": "ipython3",
   "version": "3.4.3"
  }
 },
 "nbformat": 4,
 "nbformat_minor": 0
}
